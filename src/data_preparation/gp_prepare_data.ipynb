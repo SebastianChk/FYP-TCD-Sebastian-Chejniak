{
 "cells": [
  {
   "cell_type": "code",
   "execution_count": 2,
   "id": "3e8dc0fc-a007-46f8-b01c-e0a8523839cb",
   "metadata": {},
   "outputs": [],
   "source": [
    "import os\n",
    "import pandas as pd\n",
    "import numpy as np\n",
    "import pickle"
   ]
  },
  {
   "cell_type": "markdown",
   "id": "9c8e94c5-992b-414d-a193-903629e758d4",
   "metadata": {},
   "source": [
    "- Create a separate directory for the new data, to make it easier to tell the difference between the original timeseries-models-master and this modified one.\n",
    "- Create directory to store plots"
   ]
  },
  {
   "cell_type": "code",
   "execution_count": 2,
   "id": "181df475-ec59-4668-8fb6-c0197df38ab0",
   "metadata": {},
   "outputs": [],
   "source": [
    "DATA_PATH = '../../data/'\n",
    "# PLOT_PATH = 'plots/'"
   ]
  },
  {
   "cell_type": "code",
   "execution_count": 3,
   "id": "b87f774c-a253-4dcd-87bb-ad855207eea4",
   "metadata": {},
   "outputs": [],
   "source": [
    "os.makedirs(DATA_PATH, exist_ok=True)\n",
    "# os.makedirs(PLOT_PATH, exist_ok=True)"
   ]
  },
  {
   "cell_type": "markdown",
   "id": "338fcfd7-10f2-4311-b060-9d8db4e45a3c",
   "metadata": {},
   "source": [
    "- Pickle sales_train_evaluation just because pd.read_pickle is quicker than pd.read_csv (250ms vs 4000ms respectively, on my PC) \n",
    "- Also set item id as the index and keep only sales columns\n",
    "    - This helps in finding a 305 item subset of the data"
   ]
  },
  {
   "cell_type": "code",
   "execution_count": 4,
   "id": "f5665bcb-17d4-4d44-a75e-5e60b4bd6ff8",
   "metadata": {},
   "outputs": [],
   "source": [
    "ste = pd.read_csv(f'{DATA_PATH}external/sales_train_evaluation.csv')\n",
    "# ste['id'] = ste['item_id'] + '_' + ste['store_id'] + '_evaluation'\n",
    "ste = ste.set_index('id').iloc[:,5:]\n",
    "ste.to_pickle(f'{DATA_PATH}processed/sales_train_evaluation.pkl')"
   ]
  },
  {
   "cell_type": "markdown",
   "id": "39e5552c-3fb8-453b-8349-d3d95518914d",
   "metadata": {},
   "source": [
    "- Generate and save 305 item subset"
   ]
  },
  {
   "cell_type": "code",
   "execution_count": 5,
   "id": "2d65e72c-cf0e-4667-bc8d-e619f624e584",
   "metadata": {},
   "outputs": [],
   "source": [
    "np.random.seed(42)\n",
    "sampled_ids = np.random.choice(ste.index.to_list(), 305, replace=False)\n",
    "np.save(f'{DATA_PATH}/interim/sampled_ids.npy', sampled_ids)"
   ]
  },
  {
   "cell_type": "markdown",
   "id": "f86eb33a-af56-45c9-a3bc-47f2ac1b99ca",
   "metadata": {},
   "source": [
    "The time feature (as created in the GP method) is the same for every time series, so just save it ahead of time."
   ]
  },
  {
   "cell_type": "code",
   "execution_count": 6,
   "id": "288ed158-0231-4268-b2ee-20f38fdedb2f",
   "metadata": {},
   "outputs": [],
   "source": [
    "x = np.linspace(0, 1940/365, num=1941).reshape((-1,1))\n",
    "np.save(f'{DATA_PATH}processed/time_x.npy', x)"
   ]
  }
 ],
 "metadata": {
  "kernelspec": {
   "display_name": "Python 3 (ipykernel)",
   "language": "python",
   "name": "python3"
  },
  "language_info": {
   "codemirror_mode": {
    "name": "ipython",
    "version": 3
   },
   "file_extension": ".py",
   "mimetype": "text/x-python",
   "name": "python",
   "nbconvert_exporter": "python",
   "pygments_lexer": "ipython3",
   "version": "3.9.7"
  }
 },
 "nbformat": 4,
 "nbformat_minor": 5
}
