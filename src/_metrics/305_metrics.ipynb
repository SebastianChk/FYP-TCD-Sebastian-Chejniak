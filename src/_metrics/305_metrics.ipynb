{
 "cells": [
  {
   "cell_type": "code",
   "execution_count": 1,
   "id": "ff8c4e4d-e254-4192-a5e4-6be16bf5d1f4",
   "metadata": {},
   "outputs": [],
   "source": [
    "%load_ext autoreload\n",
    "%autoreload 2"
   ]
  },
  {
   "cell_type": "code",
   "execution_count": 2,
   "id": "1c556533-dcae-42d2-b716-c4852e97d095",
   "metadata": {},
   "outputs": [],
   "source": [
    "import pickle\n",
    "import pandas as pd\n",
    "import numpy as np\n",
    "import os\n",
    "import metrics"
   ]
  },
  {
   "cell_type": "code",
   "execution_count": 4,
   "id": "458e80f3-8201-4c09-91f3-964854320936",
   "metadata": {},
   "outputs": [],
   "source": [
    "MP = '../../' # MP means Main Path\n",
    "DP = MP + 'data/'\n",
    "def load_pickle(path):\n",
    "    with open(path, 'rb') as f:\n",
    "        return pickle.load(f)"
   ]
  },
  {
   "cell_type": "markdown",
   "id": "f57b8e1d-61ff-4791-a627-678177b492d9",
   "metadata": {},
   "source": [
    "## Load predictions"
   ]
  },
  {
   "cell_type": "code",
   "execution_count": 5,
   "id": "44e07261-8287-43c6-916f-a6a6f88622b9",
   "metadata": {},
   "outputs": [],
   "source": [
    "point_predictions = dict()\n",
    "sampled_ids = np.load(f'{DP}interim/sampled_ids.npy')\n",
    "ste = pd.read_pickle(DP + 'processed/sales_train_evaluation.pkl')"
   ]
  },
  {
   "cell_type": "markdown",
   "id": "af25c3e1-d1a8-43a1-911b-2e26029f6f7b",
   "metadata": {},
   "source": [
    "### Point forecasts"
   ]
  },
  {
   "cell_type": "markdown",
   "id": "4dc2a31c-2026-4ca0-99b9-a6c4e0b0e49f",
   "metadata": {},
   "source": [
    "#### deepAR"
   ]
  },
  {
   "cell_type": "code",
   "execution_count": 6,
   "id": "e9ecec8b-861f-474c-aa83-cdc27656ce01",
   "metadata": {},
   "outputs": [],
   "source": [
    "DEEPAR_DP = '../../models/'\n",
    "DEEPAR_NAME = 'deepar_305'\n",
    "deepar_forecasts = load_pickle(f'{DEEPAR_DP}{DEEPAR_NAME}_predictions/forecasts.pkl')\n",
    "point_predictions['deepar'] = np.array(\n",
    "    [f.mean for f in deepar_forecasts])"
   ]
  },
  {
   "cell_type": "markdown",
   "id": "fe3e1729-707f-4927-b547-12788e495394",
   "metadata": {},
   "source": [
    "#### GP"
   ]
  },
  {
   "cell_type": "code",
   "execution_count": 7,
   "id": "0edae598-104a-418b-92b0-d394fc967a48",
   "metadata": {},
   "outputs": [],
   "source": [
    "m_name = 'GP_305'\n",
    "model_path = f'{MP}models/{m_name}/'\n",
    "point_predictions['gp'] = np.load(f'{model_path}means.npy').transpose()"
   ]
  },
  {
   "cell_type": "markdown",
   "id": "dd82f915-5ce3-4f64-9edc-e0b5bbfcd214",
   "metadata": {},
   "source": [
    "#### Croston"
   ]
  },
  {
   "cell_type": "code",
   "execution_count": 8,
   "id": "65b7baee-43dd-4739-ba7e-3038b3be0272",
   "metadata": {},
   "outputs": [],
   "source": [
    "point_predictions['croston'] = pd.read_csv(MP + 'models/croston/predictions.csv', index_col='id') \\\n",
    "                            .drop('alpha', axis=1) \\\n",
    "                            .loc[sampled_ids] \\\n",
    "                            .to_numpy()"
   ]
  },
  {
   "cell_type": "markdown",
   "id": "034b1633-bf17-4169-babe-6cbc86dc33f5",
   "metadata": {},
   "source": [
    "#### CrostonTSB"
   ]
  },
  {
   "cell_type": "code",
   "execution_count": 9,
   "id": "188eacf5-e645-4a8d-8361-c35abbe154c8",
   "metadata": {},
   "outputs": [],
   "source": [
    "point_predictions['crostontsb'] = pd.read_csv(MP + 'models/croston_tsb/predictions.csv', index_col='id') \\\n",
    "                            .drop(['alpha', 'beta'], axis=1) \\\n",
    "                            .loc[sampled_ids] \\\n",
    "                            .to_numpy()"
   ]
  },
  {
   "cell_type": "markdown",
   "id": "2128867d-84c9-4fc2-93ba-4614ff379cd2",
   "metadata": {
    "tags": []
   },
   "source": [
    "#### Dummy prediction"
   ]
  },
  {
   "cell_type": "code",
   "execution_count": 10,
   "id": "696eeb6b-b257-447a-82f1-6fa3f077670c",
   "metadata": {},
   "outputs": [],
   "source": [
    "m_name = 'dummy'"
   ]
  },
  {
   "cell_type": "code",
   "execution_count": 11,
   "id": "16a67b79-bdab-4313-ab4f-75626b95d6a8",
   "metadata": {},
   "outputs": [],
   "source": [
    "dummy = np.zeros(point_predictions['croston'].shape)\n",
    "point_predictions[m_name] = dummy"
   ]
  },
  {
   "cell_type": "markdown",
   "id": "7967ecb9-471e-496c-bb30-008f1417ab55",
   "metadata": {
    "tags": []
   },
   "source": [
    "## Find metrics"
   ]
  },
  {
   "cell_type": "markdown",
   "id": "db43c3fb-8f66-46f4-860d-0e46894108e8",
   "metadata": {
    "tags": []
   },
   "source": [
    "### Point forecasts"
   ]
  },
  {
   "cell_type": "code",
   "execution_count": 12,
   "id": "5985ce24-b5b0-4c6a-8d37-30f3ece6451c",
   "metadata": {},
   "outputs": [],
   "source": [
    "from metrics import create_mase"
   ]
  },
  {
   "cell_type": "code",
   "execution_count": 13,
   "id": "67bdfd0c-8748-4da6-87ac-628d2d8f3a7b",
   "metadata": {},
   "outputs": [],
   "source": [
    "sampled_tss = ste \\\n",
    "                     .loc[sampled_ids] \\\n",
    "                     .to_numpy()"
   ]
  },
  {
   "cell_type": "code",
   "execution_count": 14,
   "id": "6b01bb60-f934-4cbd-a9b9-bef82d7f187c",
   "metadata": {},
   "outputs": [
    {
     "data": {
      "text/plain": [
       "(305, 1941)"
      ]
     },
     "execution_count": 14,
     "metadata": {},
     "output_type": "execute_result"
    }
   ],
   "source": [
    "sampled_tss.shape"
   ]
  },
  {
   "cell_type": "code",
   "execution_count": 15,
   "id": "5624fd8c-1a94-44b3-a028-92199ab89db0",
   "metadata": {},
   "outputs": [],
   "source": [
    "y_trains, y_tests = sampled_tss[:, :-28], sampled_tss[:, -28:]"
   ]
  },
  {
   "cell_type": "code",
   "execution_count": 16,
   "id": "6540fa4f-5ac5-4e69-8b1e-827ff9729670",
   "metadata": {},
   "outputs": [],
   "source": [
    "result_df = pd.DataFrame(columns=['MASE','WRMSSE'],\n",
    "                         index=point_predictions.keys(),\n",
    "                         dtype='float64')\n",
    "result_df.index = result_df.index.rename('models')"
   ]
  },
  {
   "cell_type": "markdown",
   "id": "0065592b-f8e6-4edc-95ae-33497edcde66",
   "metadata": {
    "tags": []
   },
   "source": [
    "#### MASE"
   ]
  },
  {
   "cell_type": "code",
   "execution_count": 17,
   "id": "bcbed70b-24cf-44ff-a8ed-8f6e74eb285f",
   "metadata": {},
   "outputs": [],
   "source": [
    "mase = create_mase(y_tests, y_trains)"
   ]
  },
  {
   "cell_type": "code",
   "execution_count": 18,
   "id": "dadc4307-5196-4e7b-b850-3f56ce00f83d",
   "metadata": {},
   "outputs": [],
   "source": [
    "for model in point_predictions:\n",
    "    y_pred = point_predictions[model]\n",
    "    result_df.loc[model, 'MASE'] = mase(y_pred)"
   ]
  },
  {
   "cell_type": "code",
   "execution_count": 19,
   "id": "e56dffd3-c10b-4a0e-b305-617fa0757413",
   "metadata": {},
   "outputs": [
    {
     "data": {
      "text/html": [
       "<div>\n",
       "<style scoped>\n",
       "    .dataframe tbody tr th:only-of-type {\n",
       "        vertical-align: middle;\n",
       "    }\n",
       "\n",
       "    .dataframe tbody tr th {\n",
       "        vertical-align: top;\n",
       "    }\n",
       "\n",
       "    .dataframe thead th {\n",
       "        text-align: right;\n",
       "    }\n",
       "</style>\n",
       "<table border=\"1\" class=\"dataframe\">\n",
       "  <thead>\n",
       "    <tr style=\"text-align: right;\">\n",
       "      <th></th>\n",
       "      <th>MASE</th>\n",
       "      <th>WRMSSE</th>\n",
       "    </tr>\n",
       "    <tr>\n",
       "      <th>models</th>\n",
       "      <th></th>\n",
       "      <th></th>\n",
       "    </tr>\n",
       "  </thead>\n",
       "  <tbody>\n",
       "    <tr>\n",
       "      <th>deepar</th>\n",
       "      <td>1.694840</td>\n",
       "      <td>NaN</td>\n",
       "    </tr>\n",
       "    <tr>\n",
       "      <th>gp</th>\n",
       "      <td>1.829102</td>\n",
       "      <td>NaN</td>\n",
       "    </tr>\n",
       "    <tr>\n",
       "      <th>croston</th>\n",
       "      <td>1.726859</td>\n",
       "      <td>NaN</td>\n",
       "    </tr>\n",
       "    <tr>\n",
       "      <th>crostontsb</th>\n",
       "      <td>1.679214</td>\n",
       "      <td>NaN</td>\n",
       "    </tr>\n",
       "    <tr>\n",
       "      <th>dummy</th>\n",
       "      <td>1.613721</td>\n",
       "      <td>NaN</td>\n",
       "    </tr>\n",
       "  </tbody>\n",
       "</table>\n",
       "</div>"
      ],
      "text/plain": [
       "                MASE  WRMSSE\n",
       "models                      \n",
       "deepar      1.694840     NaN\n",
       "gp          1.829102     NaN\n",
       "croston     1.726859     NaN\n",
       "crostontsb  1.679214     NaN\n",
       "dummy       1.613721     NaN"
      ]
     },
     "execution_count": 19,
     "metadata": {},
     "output_type": "execute_result"
    }
   ],
   "source": [
    "result_df"
   ]
  },
  {
   "cell_type": "markdown",
   "id": "b4261790-6fa4-45dc-a362-6f34026b0aea",
   "metadata": {
    "tags": []
   },
   "source": [
    "#### RMSSE"
   ]
  },
  {
   "cell_type": "code",
   "execution_count": 20,
   "id": "a92551fa-2f8c-4895-9825-1363df80a737",
   "metadata": {},
   "outputs": [],
   "source": [
    "from sktime.performance_metrics.forecasting import mean_squared_scaled_error"
   ]
  },
  {
   "cell_type": "code",
   "execution_count": 21,
   "id": "79f4a607-f289-447a-ba33-458bbf42c88b",
   "metadata": {},
   "outputs": [],
   "source": [
    "def create_rmsse(y_tests, y_trains):\n",
    "    def metric(y_preds):\n",
    "        metrics = np.zeros(y_preds.shape[0])\n",
    "\n",
    "        metric_ = np.mean(mean_squared_scaled_error(y_train=y_trains.transpose(),\n",
    "                                                    y_true=y_tests.transpose(),\n",
    "                                                    y_pred=y_pred.transpose(),\n",
    "                                                    square_root=True,\n",
    "                                                    multioutput='raw_values'),\n",
    "                          axis=0)\n",
    "        return metric_\n",
    "    return metric"
   ]
  },
  {
   "cell_type": "code",
   "execution_count": 22,
   "id": "adf2e8bb-8205-4289-979c-b0b98414520f",
   "metadata": {},
   "outputs": [],
   "source": [
    "big_rmsse = create_rmsse(y_tests, y_trains)"
   ]
  },
  {
   "cell_type": "code",
   "execution_count": 23,
   "id": "40132b93-99bb-4053-bc27-21d5ce62e862",
   "metadata": {},
   "outputs": [],
   "source": [
    "metric = 'RMSSE'\n",
    "result_df[metric] = -1"
   ]
  },
  {
   "cell_type": "code",
   "execution_count": 24,
   "id": "104b600e-f094-4385-82be-844a7c837b01",
   "metadata": {},
   "outputs": [],
   "source": [
    "for model in point_predictions:\n",
    "    y_pred = point_predictions[model]\n",
    "    result_df.loc[model, metric] = big_rmsse(y_pred)"
   ]
  },
  {
   "cell_type": "code",
   "execution_count": 25,
   "id": "196458e7-978f-4ac6-941f-b05eb195efb0",
   "metadata": {},
   "outputs": [
    {
     "data": {
      "text/html": [
       "<div>\n",
       "<style scoped>\n",
       "    .dataframe tbody tr th:only-of-type {\n",
       "        vertical-align: middle;\n",
       "    }\n",
       "\n",
       "    .dataframe tbody tr th {\n",
       "        vertical-align: top;\n",
       "    }\n",
       "\n",
       "    .dataframe thead th {\n",
       "        text-align: right;\n",
       "    }\n",
       "</style>\n",
       "<table border=\"1\" class=\"dataframe\">\n",
       "  <thead>\n",
       "    <tr style=\"text-align: right;\">\n",
       "      <th></th>\n",
       "      <th>MASE</th>\n",
       "      <th>WRMSSE</th>\n",
       "      <th>RMSSE</th>\n",
       "    </tr>\n",
       "    <tr>\n",
       "      <th>models</th>\n",
       "      <th></th>\n",
       "      <th></th>\n",
       "      <th></th>\n",
       "    </tr>\n",
       "  </thead>\n",
       "  <tbody>\n",
       "    <tr>\n",
       "      <th>deepar</th>\n",
       "      <td>1.694840</td>\n",
       "      <td>NaN</td>\n",
       "      <td>0.914777</td>\n",
       "    </tr>\n",
       "    <tr>\n",
       "      <th>gp</th>\n",
       "      <td>1.829102</td>\n",
       "      <td>NaN</td>\n",
       "      <td>0.933273</td>\n",
       "    </tr>\n",
       "    <tr>\n",
       "      <th>croston</th>\n",
       "      <td>1.726859</td>\n",
       "      <td>NaN</td>\n",
       "      <td>0.943407</td>\n",
       "    </tr>\n",
       "    <tr>\n",
       "      <th>crostontsb</th>\n",
       "      <td>1.679214</td>\n",
       "      <td>NaN</td>\n",
       "      <td>0.954094</td>\n",
       "    </tr>\n",
       "    <tr>\n",
       "      <th>dummy</th>\n",
       "      <td>1.613721</td>\n",
       "      <td>NaN</td>\n",
       "      <td>1.156502</td>\n",
       "    </tr>\n",
       "  </tbody>\n",
       "</table>\n",
       "</div>"
      ],
      "text/plain": [
       "                MASE  WRMSSE     RMSSE\n",
       "models                                \n",
       "deepar      1.694840     NaN  0.914777\n",
       "gp          1.829102     NaN  0.933273\n",
       "croston     1.726859     NaN  0.943407\n",
       "crostontsb  1.679214     NaN  0.954094\n",
       "dummy       1.613721     NaN  1.156502"
      ]
     },
     "execution_count": 25,
     "metadata": {},
     "output_type": "execute_result"
    }
   ],
   "source": [
    "result_df"
   ]
  },
  {
   "cell_type": "markdown",
   "id": "9ecf5c0d-1f54-4622-a32a-5517af3e05f8",
   "metadata": {
    "tags": []
   },
   "source": [
    "#### WRMSSE"
   ]
  },
  {
   "cell_type": "code",
   "execution_count": 26,
   "id": "c79144af-975f-4179-84b5-7f314b69bd5d",
   "metadata": {},
   "outputs": [],
   "source": [
    "from utils.evaluation import calc_eval_metric, WRMSSEEvaluator"
   ]
  },
  {
   "cell_type": "code",
   "execution_count": 27,
   "id": "75b49047-ba1a-42e6-99b1-5a6cdd756369",
   "metadata": {},
   "outputs": [],
   "source": [
    "df_train_eval = pd.read_csv(DP + 'external/sales_train_evaluation.csv')\n",
    "calendar = pd.read_csv(DP + 'external/calendar.csv')\n",
    "selling_prices = pd.read_csv(DP + 'external/sell_prices.csv')"
   ]
  },
  {
   "cell_type": "code",
   "execution_count": 28,
   "id": "d2ce51bc-b649-4add-804d-9a0b24cdf70c",
   "metadata": {},
   "outputs": [],
   "source": [
    "key_names = [\"id\", \"item_id\", \"dept_id\", \"cat_id\", \"store_id\", \"state_id\"]\n",
    "all_ids = df_train_eval[\"id\"].unique()\n",
    "date_names = [\"d_\" + str(i) for i in range(1, 1942)]\n",
    "dates = calendar[\"date\"].unique()\n",
    "test_steps = 28"
   ]
  },
  {
   "cell_type": "code",
   "execution_count": 29,
   "id": "fa9d6a06-78c6-4d6d-b3c6-c8b5470b89f8",
   "metadata": {},
   "outputs": [
    {
     "data": {
      "application/vnd.jupyter.widget-view+json": {
       "model_id": "e4479ec5573741f69fa48b942abbeced",
       "version_major": 2,
       "version_minor": 0
      },
      "text/plain": [
       "  0%|          | 0/12 [00:00<?, ?it/s]"
      ]
     },
     "metadata": {},
     "output_type": "display_data"
    }
   ],
   "source": [
    "df_sampled = (\n",
    "    df_train_eval.set_index(\"id\").loc[sampled_ids].reset_index()\n",
    ")\n",
    "df_train_sampled = df_sampled.loc[:, key_names + date_names[:-test_steps]]\n",
    "df_test_sampled = df_sampled.loc[:, date_names[-test_steps:]]\n",
    "\n",
    "wrmsse_evaluator = WRMSSEEvaluator(\n",
    "    df_train_sampled, df_test_sampled, calendar, selling_prices, test_steps\n",
    ")"
   ]
  },
  {
   "cell_type": "code",
   "execution_count": 30,
   "id": "95d60f04-ed41-4b50-92eb-a7bc68a87bb8",
   "metadata": {},
   "outputs": [],
   "source": [
    "# predictions = [forecast.mean for forecast in forecasts]\n",
    "def find_wrmsse(point_predictions, _result_df, col='WRMSSE'):\n",
    "    result_df = _result_df.copy()\n",
    "    for model in point_predictions:\n",
    "        predictions = point_predictions[model]\n",
    "        df_pred_sampled = pd.DataFrame(predictions, columns=df_test_sampled.columns)\n",
    "        eval_metrics = calc_eval_metric(df_test_sampled, df_pred_sampled)\n",
    "        wrmsse = wrmsse_evaluator.score(df_pred_sampled)\n",
    "        result_df.loc[model, col] = wrmsse\n",
    "    return result_df"
   ]
  },
  {
   "cell_type": "code",
   "execution_count": 31,
   "id": "c57d2852-51e6-4c2e-99ed-b0011ce2236a",
   "metadata": {},
   "outputs": [
    {
     "name": "stderr",
     "output_type": "stream",
     "text": [
      "C:\\Users\\sebas\\Google Drive\\FYP_TCD_SebastianChejniak-main\\src\\_metrics\\utils\\evaluation.py:34: RuntimeWarning: Mean of empty slice\n",
      "  return np.nanmean(2 * np.abs((y_true - y_pred) / (y_true + y_pred)))\n",
      "C:\\Users\\sebas\\Google Drive\\FYP_TCD_SebastianChejniak-main\\src\\_metrics\\utils\\evaluation.py:34: RuntimeWarning: Mean of empty slice\n",
      "  return np.nanmean(2 * np.abs((y_true - y_pred) / (y_true + y_pred)))\n",
      "C:\\Users\\sebas\\Google Drive\\FYP_TCD_SebastianChejniak-main\\src\\_metrics\\utils\\evaluation.py:34: RuntimeWarning: Mean of empty slice\n",
      "  return np.nanmean(2 * np.abs((y_true - y_pred) / (y_true + y_pred)))\n"
     ]
    }
   ],
   "source": [
    "result_df = find_wrmsse(point_predictions, result_df)"
   ]
  },
  {
   "cell_type": "code",
   "execution_count": 32,
   "id": "285ff2d5-a505-4918-b72f-9afebde260b7",
   "metadata": {},
   "outputs": [
    {
     "data": {
      "text/html": [
       "<div>\n",
       "<style scoped>\n",
       "    .dataframe tbody tr th:only-of-type {\n",
       "        vertical-align: middle;\n",
       "    }\n",
       "\n",
       "    .dataframe tbody tr th {\n",
       "        vertical-align: top;\n",
       "    }\n",
       "\n",
       "    .dataframe thead th {\n",
       "        text-align: right;\n",
       "    }\n",
       "</style>\n",
       "<table border=\"1\" class=\"dataframe\">\n",
       "  <thead>\n",
       "    <tr style=\"text-align: right;\">\n",
       "      <th>models</th>\n",
       "      <th>dummy</th>\n",
       "      <th>croston</th>\n",
       "      <th>crostontsb</th>\n",
       "      <th>deepar</th>\n",
       "      <th>gp</th>\n",
       "    </tr>\n",
       "  </thead>\n",
       "  <tbody>\n",
       "    <tr>\n",
       "      <th>MASE</th>\n",
       "      <td>1.614</td>\n",
       "      <td>1.727</td>\n",
       "      <td>1.679</td>\n",
       "      <td>1.695</td>\n",
       "      <td>1.829</td>\n",
       "    </tr>\n",
       "    <tr>\n",
       "      <th>RMSSE</th>\n",
       "      <td>1.157</td>\n",
       "      <td>0.943</td>\n",
       "      <td>0.954</td>\n",
       "      <td>0.915</td>\n",
       "      <td>0.933</td>\n",
       "    </tr>\n",
       "    <tr>\n",
       "      <th>WRMSSE</th>\n",
       "      <td>3.119</td>\n",
       "      <td>0.898</td>\n",
       "      <td>0.901</td>\n",
       "      <td>0.748</td>\n",
       "      <td>0.924</td>\n",
       "    </tr>\n",
       "  </tbody>\n",
       "</table>\n",
       "</div>"
      ],
      "text/plain": [
       "models  dummy  croston  crostontsb  deepar     gp\n",
       "MASE    1.614    1.727       1.679   1.695  1.829\n",
       "RMSSE   1.157    0.943       0.954   0.915  0.933\n",
       "WRMSSE  3.119    0.898       0.901   0.748  0.924"
      ]
     },
     "execution_count": 32,
     "metadata": {},
     "output_type": "execute_result"
    }
   ],
   "source": [
    "result_df.transpose().loc[['MASE','RMSSE','WRMSSE'], ['dummy','croston', 'crostontsb', 'deepar', 'gp']].round(3)"
   ]
  },
  {
   "cell_type": "markdown",
   "id": "5e5a9be8-feb2-4f40-bcd2-d121625aa193",
   "metadata": {},
   "source": [
    "### Probabilistic forecasts"
   ]
  },
  {
   "cell_type": "markdown",
   "id": "82db4811-8eed-4f1b-bcca-0092d24c568e",
   "metadata": {},
   "source": [
    "#### Load in quantile forecasts (used for WSPL)"
   ]
  },
  {
   "cell_type": "code",
   "execution_count": 33,
   "id": "e9697106-51e2-45fc-abf9-afbcbb647f65",
   "metadata": {},
   "outputs": [],
   "source": [
    "quantile_forecasts = dict()"
   ]
  },
  {
   "cell_type": "markdown",
   "id": "6df8cac2-880b-4c32-83a7-8e1b62f0c9fb",
   "metadata": {},
   "source": [
    "##### DeepAR"
   ]
  },
  {
   "cell_type": "code",
   "execution_count": 34,
   "id": "2dbcade0-9005-4fec-9902-81581ba8cd7e",
   "metadata": {},
   "outputs": [],
   "source": [
    "DEEPAR_DP = '../../models/'\n",
    "DEEPAR_NAME = 'deepar_305'\n",
    "forecasts_folder = f'{DEEPAR_DP}{DEEPAR_NAME}_predictions/'\n",
    "quantile_forecasts['deepar'] = pd.read_pickle(f'{forecasts_folder}quantile_forecasts.pkl')"
   ]
  },
  {
   "cell_type": "markdown",
   "id": "b4158076-1240-4859-b027-6703eca8ddc4",
   "metadata": {},
   "source": [
    "##### GP"
   ]
  },
  {
   "cell_type": "code",
   "execution_count": 35,
   "id": "50ba7d20-022a-48a2-84bc-5471e902f7fa",
   "metadata": {},
   "outputs": [],
   "source": [
    "m_name = 'GP_305'\n",
    "model_path = f'{MP}models/{m_name}/'\n",
    "forecasts_folder = model_path\n",
    "quantile_forecasts['gp'] = pd.read_pickle(f'{forecasts_folder}quantile_forecasts.pkl')"
   ]
  },
  {
   "cell_type": "markdown",
   "id": "d826d8d5-bafb-4a6c-957d-cb89eaf0916d",
   "metadata": {},
   "source": [
    "#### Continuous-Ranked Probability Score (CRPS)"
   ]
  },
  {
   "cell_type": "markdown",
   "id": "8063b25f-9133-4c51-bd13-134942c982a4",
   "metadata": {},
   "source": [
    "##### DeepAR"
   ]
  },
  {
   "cell_type": "code",
   "execution_count": 36,
   "id": "c1ab6df7-9921-4976-b00a-306011ce55ed",
   "metadata": {},
   "outputs": [
    {
     "name": "stdout",
     "output_type": "stream",
     "text": [
      "Wall time: 229 ms\n"
     ]
    }
   ],
   "source": [
    "%%time\n",
    "forecasts = deepar_forecasts\n",
    "prob_preds = np.array([forecast.samples for forecast in forecasts])\n",
    "\n",
    "dar_crpss = metrics.CRPSs(y_tests, prob_preds, use_ps=True)\n",
    "dar_crpss = np.mean(dar_crpss)\n",
    "\n",
    "result_df['CRPS'] = pd.NA\n",
    "result_df.loc['deepar', 'CRPS'] = dar_crpss"
   ]
  },
  {
   "cell_type": "code",
   "execution_count": 37,
   "id": "2e6c4ba4-9b3d-4a30-9ef3-1de1f76eae5f",
   "metadata": {},
   "outputs": [
    {
     "data": {
      "text/html": [
       "<div>\n",
       "<style scoped>\n",
       "    .dataframe tbody tr th:only-of-type {\n",
       "        vertical-align: middle;\n",
       "    }\n",
       "\n",
       "    .dataframe tbody tr th {\n",
       "        vertical-align: top;\n",
       "    }\n",
       "\n",
       "    .dataframe thead th {\n",
       "        text-align: right;\n",
       "    }\n",
       "</style>\n",
       "<table border=\"1\" class=\"dataframe\">\n",
       "  <thead>\n",
       "    <tr style=\"text-align: right;\">\n",
       "      <th></th>\n",
       "      <th>MASE</th>\n",
       "      <th>WRMSSE</th>\n",
       "      <th>RMSSE</th>\n",
       "      <th>CRPS</th>\n",
       "    </tr>\n",
       "    <tr>\n",
       "      <th>models</th>\n",
       "      <th></th>\n",
       "      <th></th>\n",
       "      <th></th>\n",
       "      <th></th>\n",
       "    </tr>\n",
       "  </thead>\n",
       "  <tbody>\n",
       "    <tr>\n",
       "      <th>deepar</th>\n",
       "      <td>1.694840</td>\n",
       "      <td>0.747801</td>\n",
       "      <td>0.914777</td>\n",
       "      <td>0.575653</td>\n",
       "    </tr>\n",
       "    <tr>\n",
       "      <th>gp</th>\n",
       "      <td>1.829102</td>\n",
       "      <td>0.924087</td>\n",
       "      <td>0.933273</td>\n",
       "      <td>&lt;NA&gt;</td>\n",
       "    </tr>\n",
       "    <tr>\n",
       "      <th>croston</th>\n",
       "      <td>1.726859</td>\n",
       "      <td>0.898053</td>\n",
       "      <td>0.943407</td>\n",
       "      <td>&lt;NA&gt;</td>\n",
       "    </tr>\n",
       "    <tr>\n",
       "      <th>crostontsb</th>\n",
       "      <td>1.679214</td>\n",
       "      <td>0.901340</td>\n",
       "      <td>0.954094</td>\n",
       "      <td>&lt;NA&gt;</td>\n",
       "    </tr>\n",
       "    <tr>\n",
       "      <th>dummy</th>\n",
       "      <td>1.613721</td>\n",
       "      <td>3.119003</td>\n",
       "      <td>1.156502</td>\n",
       "      <td>&lt;NA&gt;</td>\n",
       "    </tr>\n",
       "  </tbody>\n",
       "</table>\n",
       "</div>"
      ],
      "text/plain": [
       "                MASE    WRMSSE     RMSSE      CRPS\n",
       "models                                            \n",
       "deepar      1.694840  0.747801  0.914777  0.575653\n",
       "gp          1.829102  0.924087  0.933273      <NA>\n",
       "croston     1.726859  0.898053  0.943407      <NA>\n",
       "crostontsb  1.679214  0.901340  0.954094      <NA>\n",
       "dummy       1.613721  3.119003  1.156502      <NA>"
      ]
     },
     "execution_count": 37,
     "metadata": {},
     "output_type": "execute_result"
    }
   ],
   "source": [
    "result_df"
   ]
  },
  {
   "cell_type": "markdown",
   "id": "49e9dbd2-6b1d-4400-95fb-88e74edb27ba",
   "metadata": {},
   "source": [
    "##### GP"
   ]
  },
  {
   "cell_type": "code",
   "execution_count": 38,
   "id": "7acaa1f7-cf7a-44f0-b347-c4f682f98782",
   "metadata": {},
   "outputs": [
    {
     "data": {
      "text/plain": [
       "(305, 1000, 28)"
      ]
     },
     "execution_count": 38,
     "metadata": {},
     "output_type": "execute_result"
    }
   ],
   "source": [
    "prob_preds.shape"
   ]
  },
  {
   "cell_type": "code",
   "execution_count": 39,
   "id": "94b50738-3946-4a5e-aff0-240eafd515f6",
   "metadata": {},
   "outputs": [],
   "source": [
    "# means = point_predictions['GP']\n",
    "prob_preds = np.load(f'{forecasts_folder}np_predictions.npy')\n",
    "gp_crpss = metrics.CRPSs(y_tests, prob_preds, use_ps=True)\n",
    "gp_crpss = np.mean(gp_crpss)\n",
    "\n",
    "# result_df['CRPS'] = pd.NA\n",
    "result_df.loc['gp', 'CRPS'] = gp_crpss"
   ]
  },
  {
   "cell_type": "code",
   "execution_count": 40,
   "id": "537cd7c3-55c5-4384-9ed0-469d843f74b9",
   "metadata": {},
   "outputs": [
    {
     "data": {
      "text/html": [
       "<div>\n",
       "<style scoped>\n",
       "    .dataframe tbody tr th:only-of-type {\n",
       "        vertical-align: middle;\n",
       "    }\n",
       "\n",
       "    .dataframe tbody tr th {\n",
       "        vertical-align: top;\n",
       "    }\n",
       "\n",
       "    .dataframe thead th {\n",
       "        text-align: right;\n",
       "    }\n",
       "</style>\n",
       "<table border=\"1\" class=\"dataframe\">\n",
       "  <thead>\n",
       "    <tr style=\"text-align: right;\">\n",
       "      <th></th>\n",
       "      <th>MASE</th>\n",
       "      <th>WRMSSE</th>\n",
       "      <th>RMSSE</th>\n",
       "      <th>CRPS</th>\n",
       "    </tr>\n",
       "    <tr>\n",
       "      <th>models</th>\n",
       "      <th></th>\n",
       "      <th></th>\n",
       "      <th></th>\n",
       "      <th></th>\n",
       "    </tr>\n",
       "  </thead>\n",
       "  <tbody>\n",
       "    <tr>\n",
       "      <th>deepar</th>\n",
       "      <td>1.694840</td>\n",
       "      <td>0.747801</td>\n",
       "      <td>0.914777</td>\n",
       "      <td>0.575653</td>\n",
       "    </tr>\n",
       "    <tr>\n",
       "      <th>gp</th>\n",
       "      <td>1.829102</td>\n",
       "      <td>0.924087</td>\n",
       "      <td>0.933273</td>\n",
       "      <td>0.644072</td>\n",
       "    </tr>\n",
       "    <tr>\n",
       "      <th>croston</th>\n",
       "      <td>1.726859</td>\n",
       "      <td>0.898053</td>\n",
       "      <td>0.943407</td>\n",
       "      <td>&lt;NA&gt;</td>\n",
       "    </tr>\n",
       "    <tr>\n",
       "      <th>crostontsb</th>\n",
       "      <td>1.679214</td>\n",
       "      <td>0.901340</td>\n",
       "      <td>0.954094</td>\n",
       "      <td>&lt;NA&gt;</td>\n",
       "    </tr>\n",
       "    <tr>\n",
       "      <th>dummy</th>\n",
       "      <td>1.613721</td>\n",
       "      <td>3.119003</td>\n",
       "      <td>1.156502</td>\n",
       "      <td>&lt;NA&gt;</td>\n",
       "    </tr>\n",
       "  </tbody>\n",
       "</table>\n",
       "</div>"
      ],
      "text/plain": [
       "                MASE    WRMSSE     RMSSE      CRPS\n",
       "models                                            \n",
       "deepar      1.694840  0.747801  0.914777  0.575653\n",
       "gp          1.829102  0.924087  0.933273  0.644072\n",
       "croston     1.726859  0.898053  0.943407      <NA>\n",
       "crostontsb  1.679214  0.901340  0.954094      <NA>\n",
       "dummy       1.613721  3.119003  1.156502      <NA>"
      ]
     },
     "execution_count": 40,
     "metadata": {},
     "output_type": "execute_result"
    }
   ],
   "source": [
    "result_df"
   ]
  },
  {
   "cell_type": "markdown",
   "id": "477e8cfa-287e-47ec-97eb-8e2dd393341f",
   "metadata": {},
   "source": [
    "#### WSPL"
   ]
  },
  {
   "cell_type": "code",
   "execution_count": 42,
   "id": "aa46d4c6-96b0-4b97-bc18-91933014e72e",
   "metadata": {},
   "outputs": [],
   "source": [
    "ste = pd.read_csv(f'{DP}external/sales_train_evaluation.csv')\n",
    "cal = pd.read_csv(f'{DP}external/calendar.csv')\n",
    "prices = pd.read_csv(f'{DP}external/sell_prices.csv')\n",
    "\n",
    "ste = ste.set_index('id').loc[sampled_ids].reset_index()"
   ]
  },
  {
   "cell_type": "code",
   "execution_count": 43,
   "id": "855a74b7-cfe4-4a44-8106-c878472162a7",
   "metadata": {},
   "outputs": [],
   "source": [
    "import utils.m5_helpers\n",
    "wspl_eval = utils.m5_helpers.WSPLEvaluator(ste, cal, prices, start_test=1914)\n",
    "result_df['WSPL'] = pd.NA"
   ]
  },
  {
   "cell_type": "markdown",
   "id": "e348b29c-e71c-4205-b189-ec36df700e72",
   "metadata": {},
   "source": [
    "##### DeepAR"
   ]
  },
  {
   "cell_type": "code",
   "execution_count": 44,
   "id": "b65333c5-a040-4388-a7c4-1eb0ab513b6e",
   "metadata": {},
   "outputs": [
    {
     "name": "stdout",
     "output_type": "stream",
     "text": [
      "Total score is 0.1995079616291688\n"
     ]
    }
   ],
   "source": [
    "wspl_eval.score_all(quantile_forecasts['deepar'].to_numpy())\n",
    "result_df.loc['deepar', 'WSPL'] = wspl_eval.total_score"
   ]
  },
  {
   "cell_type": "markdown",
   "id": "c5ab48f1-9d46-4e1e-be69-f27c33486475",
   "metadata": {},
   "source": [
    "##### GP"
   ]
  },
  {
   "cell_type": "code",
   "execution_count": 45,
   "id": "d873fe74-1600-4063-85c9-6a10d882c8a2",
   "metadata": {},
   "outputs": [
    {
     "name": "stdout",
     "output_type": "stream",
     "text": [
      "Total score is 0.2558884855148303\n"
     ]
    }
   ],
   "source": [
    "wspl_eval.score_all(quantile_forecasts['gp'].to_numpy())\n",
    "result_df.loc['gp', 'WSPL'] = wspl_eval.total_score"
   ]
  },
  {
   "cell_type": "code",
   "execution_count": 46,
   "id": "ae2fccd9-ed5d-4f2a-8a35-6384f839b8ea",
   "metadata": {},
   "outputs": [
    {
     "data": {
      "text/html": [
       "<div>\n",
       "<style scoped>\n",
       "    .dataframe tbody tr th:only-of-type {\n",
       "        vertical-align: middle;\n",
       "    }\n",
       "\n",
       "    .dataframe tbody tr th {\n",
       "        vertical-align: top;\n",
       "    }\n",
       "\n",
       "    .dataframe thead th {\n",
       "        text-align: right;\n",
       "    }\n",
       "</style>\n",
       "<table border=\"1\" class=\"dataframe\">\n",
       "  <thead>\n",
       "    <tr style=\"text-align: right;\">\n",
       "      <th></th>\n",
       "      <th>MASE</th>\n",
       "      <th>WRMSSE</th>\n",
       "      <th>RMSSE</th>\n",
       "      <th>CRPS</th>\n",
       "      <th>WSPL</th>\n",
       "    </tr>\n",
       "    <tr>\n",
       "      <th>models</th>\n",
       "      <th></th>\n",
       "      <th></th>\n",
       "      <th></th>\n",
       "      <th></th>\n",
       "      <th></th>\n",
       "    </tr>\n",
       "  </thead>\n",
       "  <tbody>\n",
       "    <tr>\n",
       "      <th>deepar</th>\n",
       "      <td>1.694840</td>\n",
       "      <td>0.747801</td>\n",
       "      <td>0.914777</td>\n",
       "      <td>0.575653</td>\n",
       "      <td>0.199508</td>\n",
       "    </tr>\n",
       "    <tr>\n",
       "      <th>gp</th>\n",
       "      <td>1.829102</td>\n",
       "      <td>0.924087</td>\n",
       "      <td>0.933273</td>\n",
       "      <td>0.644072</td>\n",
       "      <td>0.255888</td>\n",
       "    </tr>\n",
       "    <tr>\n",
       "      <th>croston</th>\n",
       "      <td>1.726859</td>\n",
       "      <td>0.898053</td>\n",
       "      <td>0.943407</td>\n",
       "      <td>&lt;NA&gt;</td>\n",
       "      <td>&lt;NA&gt;</td>\n",
       "    </tr>\n",
       "    <tr>\n",
       "      <th>crostontsb</th>\n",
       "      <td>1.679214</td>\n",
       "      <td>0.901340</td>\n",
       "      <td>0.954094</td>\n",
       "      <td>&lt;NA&gt;</td>\n",
       "      <td>&lt;NA&gt;</td>\n",
       "    </tr>\n",
       "    <tr>\n",
       "      <th>dummy</th>\n",
       "      <td>1.613721</td>\n",
       "      <td>3.119003</td>\n",
       "      <td>1.156502</td>\n",
       "      <td>&lt;NA&gt;</td>\n",
       "      <td>&lt;NA&gt;</td>\n",
       "    </tr>\n",
       "  </tbody>\n",
       "</table>\n",
       "</div>"
      ],
      "text/plain": [
       "                MASE    WRMSSE     RMSSE      CRPS      WSPL\n",
       "models                                                      \n",
       "deepar      1.694840  0.747801  0.914777  0.575653  0.199508\n",
       "gp          1.829102  0.924087  0.933273  0.644072  0.255888\n",
       "croston     1.726859  0.898053  0.943407      <NA>      <NA>\n",
       "crostontsb  1.679214  0.901340  0.954094      <NA>      <NA>\n",
       "dummy       1.613721  3.119003  1.156502      <NA>      <NA>"
      ]
     },
     "execution_count": 46,
     "metadata": {},
     "output_type": "execute_result"
    }
   ],
   "source": [
    "result_df"
   ]
  },
  {
   "cell_type": "code",
   "execution_count": 47,
   "id": "b021ac61-6910-4210-b006-bc8e65bd5b61",
   "metadata": {},
   "outputs": [],
   "source": [
    "result_df.to_csv('metrics_305.csv')"
   ]
  },
  {
   "cell_type": "code",
   "execution_count": 48,
   "id": "6a674899-19b2-4fc3-a4a8-71023eb4d87f",
   "metadata": {},
   "outputs": [
    {
     "data": {
      "text/html": [
       "<div>\n",
       "<style scoped>\n",
       "    .dataframe tbody tr th:only-of-type {\n",
       "        vertical-align: middle;\n",
       "    }\n",
       "\n",
       "    .dataframe tbody tr th {\n",
       "        vertical-align: top;\n",
       "    }\n",
       "\n",
       "    .dataframe thead th {\n",
       "        text-align: right;\n",
       "    }\n",
       "</style>\n",
       "<table border=\"1\" class=\"dataframe\">\n",
       "  <thead>\n",
       "    <tr style=\"text-align: right;\">\n",
       "      <th></th>\n",
       "      <th>MASE</th>\n",
       "      <th>WRMSSE</th>\n",
       "      <th>RMSSE</th>\n",
       "      <th>CRPS</th>\n",
       "      <th>WSPL</th>\n",
       "    </tr>\n",
       "    <tr>\n",
       "      <th>models</th>\n",
       "      <th></th>\n",
       "      <th></th>\n",
       "      <th></th>\n",
       "      <th></th>\n",
       "      <th></th>\n",
       "    </tr>\n",
       "  </thead>\n",
       "  <tbody>\n",
       "    <tr>\n",
       "      <th>deepar</th>\n",
       "      <td>1.695</td>\n",
       "      <td>0.748</td>\n",
       "      <td>0.915</td>\n",
       "      <td>0.575653</td>\n",
       "      <td>0.199508</td>\n",
       "    </tr>\n",
       "    <tr>\n",
       "      <th>gp</th>\n",
       "      <td>1.829</td>\n",
       "      <td>0.924</td>\n",
       "      <td>0.933</td>\n",
       "      <td>0.644072</td>\n",
       "      <td>0.255888</td>\n",
       "    </tr>\n",
       "    <tr>\n",
       "      <th>croston</th>\n",
       "      <td>1.727</td>\n",
       "      <td>0.898</td>\n",
       "      <td>0.943</td>\n",
       "      <td>&lt;NA&gt;</td>\n",
       "      <td>&lt;NA&gt;</td>\n",
       "    </tr>\n",
       "    <tr>\n",
       "      <th>crostontsb</th>\n",
       "      <td>1.679</td>\n",
       "      <td>0.901</td>\n",
       "      <td>0.954</td>\n",
       "      <td>&lt;NA&gt;</td>\n",
       "      <td>&lt;NA&gt;</td>\n",
       "    </tr>\n",
       "    <tr>\n",
       "      <th>dummy</th>\n",
       "      <td>1.614</td>\n",
       "      <td>3.119</td>\n",
       "      <td>1.157</td>\n",
       "      <td>&lt;NA&gt;</td>\n",
       "      <td>&lt;NA&gt;</td>\n",
       "    </tr>\n",
       "  </tbody>\n",
       "</table>\n",
       "</div>"
      ],
      "text/plain": [
       "             MASE  WRMSSE  RMSSE      CRPS      WSPL\n",
       "models                                              \n",
       "deepar      1.695   0.748  0.915  0.575653  0.199508\n",
       "gp          1.829   0.924  0.933  0.644072  0.255888\n",
       "croston     1.727   0.898  0.943      <NA>      <NA>\n",
       "crostontsb  1.679   0.901  0.954      <NA>      <NA>\n",
       "dummy       1.614   3.119  1.157      <NA>      <NA>"
      ]
     },
     "execution_count": 48,
     "metadata": {},
     "output_type": "execute_result"
    }
   ],
   "source": [
    "result_df.round(3)"
   ]
  },
  {
   "cell_type": "code",
   "execution_count": null,
   "id": "466e5cf8-9927-4e70-8427-89446c771206",
   "metadata": {},
   "outputs": [],
   "source": []
  }
 ],
 "metadata": {
  "kernelspec": {
   "display_name": "Python 3 (ipykernel)",
   "language": "python",
   "name": "python3"
  },
  "language_info": {
   "codemirror_mode": {
    "name": "ipython",
    "version": 3
   },
   "file_extension": ".py",
   "mimetype": "text/x-python",
   "name": "python",
   "nbconvert_exporter": "python",
   "pygments_lexer": "ipython3",
   "version": "3.9.7"
  }
 },
 "nbformat": 4,
 "nbformat_minor": 5
}
