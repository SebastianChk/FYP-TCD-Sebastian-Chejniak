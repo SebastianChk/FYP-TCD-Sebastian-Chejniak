{
 "cells": [
  {
   "cell_type": "markdown",
   "id": "9138e978-dd5c-4352-86c0-14494d9f892c",
   "metadata": {},
   "source": [
    "#### The cells have not been run before because I ran a different instance of this notebook and just manually moved the forecasts to `../../models/` because each croston method takes about an hour to run"
   ]
  },
  {
   "cell_type": "code",
   "execution_count": 1,
   "id": "8c0f73e3-f877-479f-bfcd-13b95438b8a0",
   "metadata": {},
   "outputs": [],
   "source": [
    "%load_ext autoreload\n",
    "%autoreload 2\n",
    "\n",
    "import pandas as pd\n",
    "import numpy as np\n",
    "import os\n",
    "from croston import Croston_Forecasts, Croston_least_squares\n",
    "\n",
    "DATA_PATH = '../../data/'\n",
    "external = DATA_PATH + 'external/'\n",
    "processed = DATA_PATH + 'processed/'\n",
    "MODELS_PATH = '../../models/'"
   ]
  },
  {
   "cell_type": "code",
   "execution_count": 4,
   "id": "894d69ae-4b21-4610-92c5-b54630c454a6",
   "metadata": {},
   "outputs": [],
   "source": [
    "ste = pd.read_csv(processed + \"ste.csv\",\n",
    "                  index_col='id')"
   ]
  },
  {
   "cell_type": "code",
   "execution_count": 10,
   "id": "b4d6a854-4bb6-4cc0-8b8a-0f577df07d25",
   "metadata": {},
   "outputs": [
    {
     "name": "stdout",
     "output_type": "stream",
     "text": [
      "CPU times: total: 2 s\n",
      "Wall time: 2.19 s\n"
     ]
    }
   ],
   "source": [
    "%%time\n",
    "mname = 'croston'\n",
    "MODEL_PATH = MODELS_PATH + f'{mname}/'\n",
    "os.makedirs(MODEL_PATH, exist_ok=True)\n",
    "croston_predictions = Croston_Forecasts(ste, 'std')\n",
    "croston_predictions.to_csv(MODEL_PATH + 'predictions.csv')"
   ]
  },
  {
   "cell_type": "code",
   "execution_count": null,
   "id": "9ef9949b-71b6-45e9-8813-27732d4d9b8d",
   "metadata": {},
   "outputs": [],
   "source": [
    "%%time\n",
    "mname = 'croston_tsb'\n",
    "MODEL_PATH = MODELS_PATH + f'{mname}/'\n",
    "os.makedirs(MODEL_PATH, exist_ok=True)\n",
    "croston_predictions = Croston_Forecasts(ste, 'tsb')\n",
    "croston_predictions.to_csv(MODEL_PATH + 'predictions.csv')"
   ]
  }
 ],
 "metadata": {
  "kernelspec": {
   "display_name": "Python 3 (ipykernel)",
   "language": "python",
   "name": "python3"
  },
  "language_info": {
   "codemirror_mode": {
    "name": "ipython",
    "version": 3
   },
   "file_extension": ".py",
   "mimetype": "text/x-python",
   "name": "python",
   "nbconvert_exporter": "python",
   "pygments_lexer": "ipython3",
   "version": "3.9.7"
  }
 },
 "nbformat": 4,
 "nbformat_minor": 5
}
