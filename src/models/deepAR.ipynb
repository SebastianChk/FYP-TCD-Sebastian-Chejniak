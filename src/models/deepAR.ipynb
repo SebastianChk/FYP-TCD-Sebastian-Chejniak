{
 "cells": [
  {
   "cell_type": "code",
   "execution_count": 1,
   "id": "4098b22b-7413-4ce5-936d-86acababb1e1",
   "metadata": {},
   "outputs": [
    {
     "name": "stderr",
     "output_type": "stream",
     "text": [
      "C:\\Users\\sebas\\AppData\\Roaming\\Python\\Python39\\site-packages\\gluonts\\json.py:45: UserWarning: Using `json`-module for json-handling. Consider installing one of `orjson`, `ujson` to speed up serialization and deserialization.\n",
      "  warnings.warn(\n"
     ]
    }
   ],
   "source": [
    "%load_ext autoreload\n",
    "%autoreload 2\n",
    "\n",
    "from gluonts.mx import Trainer\n",
    "from gluonts.evaluation import make_evaluation_predictions\n",
    "from gluonts.model import deepar\n",
    "from gluonts.mx.distribution.neg_binomial import NegativeBinomialOutput\n",
    "from pathlib import Path\n",
    "import numpy as np\n",
    "import pickle\n",
    "import os\n",
    "import json\n",
    "import pandas as pd\n",
    "import mxnet as mx\n",
    "\n",
    "mx.random.seed(42)"
   ]
  },
  {
   "cell_type": "code",
   "execution_count": 2,
   "id": "af6c3ed1-f589-4816-9d3f-9a30e6970260",
   "metadata": {},
   "outputs": [],
   "source": [
    "DATA_PATH = '../../data/'"
   ]
  },
  {
   "cell_type": "code",
   "execution_count": 3,
   "id": "5fc6a697-addb-49f3-9d17-f4fcbed82df8",
   "metadata": {},
   "outputs": [],
   "source": [
    "ste = pd.read_pickle(f'{DATA_PATH}processed/ste_processed.pkl')\n",
    "cal = pd.read_pickle(f'{DATA_PATH}processed/cal_processed.pkl')"
   ]
  },
  {
   "cell_type": "code",
   "execution_count": 4,
   "id": "177b277f-9547-4249-979c-39569651ebc4",
   "metadata": {},
   "outputs": [],
   "source": [
    "MODEL_LOCATION = \"../../models/\"\n",
    "MODEL_NAME = \"deepar_305\""
   ]
  },
  {
   "cell_type": "code",
   "execution_count": 5,
   "id": "45754fac-1630-44f8-abff-c709eb290ebf",
   "metadata": {},
   "outputs": [],
   "source": [
    "sampled_ids = np.load(f'{DATA_PATH}/interim/sampled_ids.npy').tolist()"
   ]
  },
  {
   "cell_type": "code",
   "execution_count": 6,
   "id": "69f7f88c-4174-4232-8138-010618655790",
   "metadata": {},
   "outputs": [],
   "source": [
    "wd = os.getcwd()\n",
    "os.chdir('../data_preparation')\n",
    "from functions import CreateListDatasets\n",
    "os.chdir(wd)\n",
    "\n",
    "train, test, cardinality = CreateListDatasets(ste.loc[sampled_ids, :],\n",
    "                                              cal,\n",
    "                                              exclude=['id'])"
   ]
  },
  {
   "cell_type": "code",
   "execution_count": 7,
   "id": "7ddc1dc4-b6d3-4f1d-b617-bd4c75d3e26a",
   "metadata": {},
   "outputs": [],
   "source": [
    "del ste, cal"
   ]
  },
  {
   "cell_type": "code",
   "execution_count": 8,
   "id": "1bbcb12f-744b-493a-ae45-037ee4ae9d9b",
   "metadata": {},
   "outputs": [],
   "source": [
    "trainer = Trainer(epochs=200, \n",
    "                  num_batches_per_epoch=50, \n",
    "                  learning_rate=0.001, \n",
    "                  hybridize=True)\n",
    "\n",
    "DeepAR_estimator = deepar.DeepAREstimator(\n",
    "    freq=\"D\", \n",
    "    prediction_length=28, \n",
    "    context_length=2*28,\n",
    "    num_layers=2,\n",
    "    num_cells=40,\n",
    "    dropout_rate=0.1,\n",
    "    trainer=trainer,\n",
    "    distr_output=NegativeBinomialOutput(), \n",
    "    use_feat_static_cat=True,\n",
    "    cardinality=cardinality, \n",
    "    use_feat_dynamic_real=True,\n",
    "    batch_size=30,\n",
    ")"
   ]
  },
  {
   "cell_type": "code",
   "execution_count": 9,
   "id": "8596d5ed-fc6e-4181-94ec-2b80ddf32191",
   "metadata": {},
   "outputs": [
    {
     "name": "stderr",
     "output_type": "stream",
     "text": [
      "C:\\Users\\sebas\\AppData\\Roaming\\Python\\Python39\\site-packages\\gluonts\\dataset\\common.py:323: FutureWarning: The 'freq' argument in Timestamp is deprecated and will be removed in a future version.\n",
      "  timestamp = pd.Timestamp(string, freq=freq)\n",
      "C:\\Users\\sebas\\AppData\\Roaming\\Python\\Python39\\site-packages\\gluonts\\dataset\\common.py:326: FutureWarning: Timestamp.freq is deprecated and will be removed in a future version\n",
      "  if isinstance(timestamp.freq, Tick):\n",
      "C:\\Users\\sebas\\AppData\\Roaming\\Python\\Python39\\site-packages\\gluonts\\dataset\\common.py:328: FutureWarning: Timestamp.freq is deprecated and will be removed in a future version\n",
      "  timestamp.floor(timestamp.freq), timestamp.freq\n",
      "C:\\Users\\sebas\\AppData\\Roaming\\Python\\Python39\\site-packages\\gluonts\\dataset\\common.py:327: FutureWarning: The 'freq' argument in Timestamp is deprecated and will be removed in a future version.\n",
      "  return pd.Timestamp(\n",
      "C:\\Users\\sebas\\AppData\\Roaming\\Python\\Python39\\site-packages\\gluonts\\transform\\split.py:36: FutureWarning: Timestamp.freq is deprecated and will be removed in a future version\n",
      "  return _shift_timestamp_helper(ts, ts.freq, offset)\n",
      "C:\\Users\\sebas\\AppData\\Roaming\\Python\\Python39\\site-packages\\gluonts\\transform\\feature.py:352: FutureWarning: Timestamp.freq is deprecated and will be removed in a future version\n",
      "  self._min_time_point, self._max_time_point, freq=start.freq\n",
      "  0%|                                                                                           | 0/50 [00:00<?, ?it/s]C:\\Users\\sebas\\AppData\\Roaming\\Python\\Python39\\site-packages\\gluonts\\transform\\split.py:36: FutureWarning: Timestamp.freq is deprecated and will be removed in a future version\n",
      "  return _shift_timestamp_helper(ts, ts.freq, offset)\n",
      "100%|███████████████████████████████████████████████| 50/50 [00:14<00:00,  3.54it/s, epoch=1/200, avg_epoch_loss=0.843]\n",
      "100%|███████████████████████████████████████████████| 50/50 [00:10<00:00,  4.57it/s, epoch=2/200, avg_epoch_loss=0.849]\n",
      "100%|███████████████████████████████████████████████| 50/50 [00:12<00:00,  4.13it/s, epoch=3/200, avg_epoch_loss=0.816]\n",
      "100%|███████████████████████████████████████████████| 50/50 [00:10<00:00,  4.78it/s, epoch=4/200, avg_epoch_loss=0.794]\n",
      "100%|███████████████████████████████████████████████| 50/50 [00:11<00:00,  4.34it/s, epoch=5/200, avg_epoch_loss=0.815]\n",
      "100%|███████████████████████████████████████████████| 50/50 [00:10<00:00,  4.76it/s, epoch=6/200, avg_epoch_loss=0.811]\n",
      "100%|███████████████████████████████████████████████| 50/50 [00:11<00:00,  4.42it/s, epoch=7/200, avg_epoch_loss=0.803]\n",
      "100%|███████████████████████████████████████████████| 50/50 [00:17<00:00,  2.93it/s, epoch=8/200, avg_epoch_loss=0.812]\n",
      "100%|███████████████████████████████████████████████| 50/50 [00:20<00:00,  2.40it/s, epoch=9/200, avg_epoch_loss=0.835]\n",
      "100%|██████████████████████████████████████████████| 50/50 [00:21<00:00,  2.34it/s, epoch=10/200, avg_epoch_loss=0.811]\n",
      "100%|██████████████████████████████████████████████| 50/50 [00:15<00:00,  3.19it/s, epoch=11/200, avg_epoch_loss=0.766]\n",
      "100%|██████████████████████████████████████████████| 50/50 [00:15<00:00,  3.13it/s, epoch=12/200, avg_epoch_loss=0.785]\n",
      "100%|██████████████████████████████████████████████| 50/50 [00:13<00:00,  3.69it/s, epoch=13/200, avg_epoch_loss=0.824]\n",
      "100%|██████████████████████████████████████████████| 50/50 [00:16<00:00,  3.09it/s, epoch=14/200, avg_epoch_loss=0.792]\n",
      "100%|██████████████████████████████████████████████| 50/50 [00:10<00:00,  4.69it/s, epoch=15/200, avg_epoch_loss=0.787]\n",
      "100%|██████████████████████████████████████████████| 50/50 [00:28<00:00,  1.76it/s, epoch=16/200, avg_epoch_loss=0.782]\n",
      "100%|██████████████████████████████████████████████| 50/50 [00:17<00:00,  2.86it/s, epoch=17/200, avg_epoch_loss=0.793]\n",
      "100%|██████████████████████████████████████████████| 50/50 [00:19<00:00,  2.56it/s, epoch=18/200, avg_epoch_loss=0.789]\n",
      "100%|██████████████████████████████████████████████| 50/50 [00:13<00:00,  3.58it/s, epoch=19/200, avg_epoch_loss=0.808]\n",
      "100%|██████████████████████████████████████████████| 50/50 [00:16<00:00,  3.07it/s, epoch=20/200, avg_epoch_loss=0.775]\n",
      "100%|██████████████████████████████████████████████| 50/50 [00:12<00:00,  4.00it/s, epoch=21/200, avg_epoch_loss=0.776]\n",
      "100%|██████████████████████████████████████████████| 50/50 [00:18<00:00,  2.75it/s, epoch=22/200, avg_epoch_loss=0.795]\n",
      "100%|██████████████████████████████████████████████| 50/50 [00:11<00:00,  4.54it/s, epoch=23/200, avg_epoch_loss=0.821]\n",
      "100%|███████████████████████████████████████████████| 50/50 [00:16<00:00,  3.03it/s, epoch=24/200, avg_epoch_loss=0.79]\n",
      "100%|██████████████████████████████████████████████| 50/50 [00:14<00:00,  3.57it/s, epoch=25/200, avg_epoch_loss=0.784]\n",
      "100%|██████████████████████████████████████████████| 50/50 [00:16<00:00,  3.04it/s, epoch=26/200, avg_epoch_loss=0.757]\n",
      "100%|██████████████████████████████████████████████| 50/50 [00:13<00:00,  3.60it/s, epoch=27/200, avg_epoch_loss=0.778]\n",
      "100%|██████████████████████████████████████████████| 50/50 [00:13<00:00,  3.66it/s, epoch=28/200, avg_epoch_loss=0.816]\n",
      "100%|██████████████████████████████████████████████| 50/50 [00:16<00:00,  3.04it/s, epoch=29/200, avg_epoch_loss=0.794]\n",
      "100%|██████████████████████████████████████████████| 50/50 [00:11<00:00,  4.22it/s, epoch=30/200, avg_epoch_loss=0.771]\n",
      "100%|██████████████████████████████████████████████| 50/50 [00:18<00:00,  2.70it/s, epoch=31/200, avg_epoch_loss=0.784]\n",
      "100%|██████████████████████████████████████████████| 50/50 [00:10<00:00,  4.61it/s, epoch=32/200, avg_epoch_loss=0.809]\n",
      "100%|██████████████████████████████████████████████| 50/50 [00:16<00:00,  3.03it/s, epoch=33/200, avg_epoch_loss=0.774]\n",
      "100%|██████████████████████████████████████████████| 50/50 [00:13<00:00,  3.78it/s, epoch=34/200, avg_epoch_loss=0.796]\n",
      "100%|██████████████████████████████████████████████| 50/50 [00:13<00:00,  3.61it/s, epoch=35/200, avg_epoch_loss=0.783]\n",
      "100%|██████████████████████████████████████████████| 50/50 [00:18<00:00,  2.77it/s, epoch=36/200, avg_epoch_loss=0.835]\n",
      "100%|██████████████████████████████████████████████| 50/50 [00:14<00:00,  3.36it/s, epoch=37/200, avg_epoch_loss=0.822]\n",
      "100%|██████████████████████████████████████████████| 50/50 [00:16<00:00,  2.98it/s, epoch=38/200, avg_epoch_loss=0.794]\n",
      "100%|██████████████████████████████████████████████| 50/50 [00:14<00:00,  3.51it/s, epoch=39/200, avg_epoch_loss=0.813]\n",
      "100%|██████████████████████████████████████████████| 50/50 [00:16<00:00,  2.96it/s, epoch=40/200, avg_epoch_loss=0.781]\n",
      "100%|██████████████████████████████████████████████| 50/50 [00:11<00:00,  4.48it/s, epoch=41/200, avg_epoch_loss=0.782]\n",
      "100%|██████████████████████████████████████████████| 50/50 [00:16<00:00,  2.97it/s, epoch=42/200, avg_epoch_loss=0.785]\n",
      "100%|███████████████████████████████████████████████| 50/50 [00:12<00:00,  3.85it/s, epoch=43/200, avg_epoch_loss=0.78]\n",
      "100%|██████████████████████████████████████████████| 50/50 [00:16<00:00,  2.96it/s, epoch=44/200, avg_epoch_loss=0.802]\n",
      "100%|██████████████████████████████████████████████| 50/50 [00:14<00:00,  3.55it/s, epoch=45/200, avg_epoch_loss=0.841]\n",
      "100%|██████████████████████████████████████████████| 50/50 [00:14<00:00,  3.56it/s, epoch=46/200, avg_epoch_loss=0.827]\n",
      "100%|██████████████████████████████████████████████| 50/50 [00:16<00:00,  3.01it/s, epoch=47/200, avg_epoch_loss=0.755]\n",
      "100%|██████████████████████████████████████████████| 50/50 [00:13<00:00,  3.66it/s, epoch=48/200, avg_epoch_loss=0.803]\n",
      "100%|██████████████████████████████████████████████| 50/50 [00:16<00:00,  3.03it/s, epoch=49/200, avg_epoch_loss=0.794]\n",
      "100%|██████████████████████████████████████████████| 50/50 [00:10<00:00,  4.70it/s, epoch=50/200, avg_epoch_loss=0.832]\n",
      "100%|██████████████████████████████████████████████| 50/50 [00:16<00:00,  3.04it/s, epoch=51/200, avg_epoch_loss=0.806]\n",
      "100%|██████████████████████████████████████████████| 50/50 [00:13<00:00,  3.73it/s, epoch=52/200, avg_epoch_loss=0.794]\n",
      "100%|██████████████████████████████████████████████| 50/50 [00:15<00:00,  3.16it/s, epoch=53/200, avg_epoch_loss=0.784]\n",
      "100%|██████████████████████████████████████████████| 50/50 [00:14<00:00,  3.51it/s, epoch=54/200, avg_epoch_loss=0.751]\n",
      "100%|███████████████████████████████████████████████| 50/50 [00:13<00:00,  3.63it/s, epoch=55/200, avg_epoch_loss=0.77]\n",
      "100%|██████████████████████████████████████████████| 50/50 [00:16<00:00,  3.01it/s, epoch=56/200, avg_epoch_loss=0.813]\n",
      "100%|██████████████████████████████████████████████| 50/50 [00:10<00:00,  4.59it/s, epoch=57/200, avg_epoch_loss=0.836]\n",
      "100%|██████████████████████████████████████████████| 50/50 [00:16<00:00,  3.03it/s, epoch=58/200, avg_epoch_loss=0.828]\n",
      "100%|██████████████████████████████████████████████| 50/50 [00:13<00:00,  3.75it/s, epoch=59/200, avg_epoch_loss=0.807]\n",
      "100%|██████████████████████████████████████████████| 50/50 [00:15<00:00,  3.20it/s, epoch=60/200, avg_epoch_loss=0.774]\n",
      "100%|████████████████████████████████████████████████| 50/50 [00:14<00:00,  3.49it/s, epoch=61/200, avg_epoch_loss=0.8]\n",
      "100%|██████████████████████████████████████████████| 50/50 [00:13<00:00,  3.68it/s, epoch=62/200, avg_epoch_loss=0.796]\n",
      "100%|██████████████████████████████████████████████| 50/50 [00:16<00:00,  3.02it/s, epoch=63/200, avg_epoch_loss=0.773]\n",
      "100%|██████████████████████████████████████████████| 50/50 [00:10<00:00,  4.58it/s, epoch=64/200, avg_epoch_loss=0.747]\n",
      "100%|██████████████████████████████████████████████| 50/50 [00:16<00:00,  3.03it/s, epoch=65/200, avg_epoch_loss=0.813]\n",
      "100%|██████████████████████████████████████████████| 50/50 [00:13<00:00,  3.68it/s, epoch=66/200, avg_epoch_loss=0.792]\n",
      "100%|██████████████████████████████████████████████| 50/50 [00:16<00:00,  3.01it/s, epoch=67/200, avg_epoch_loss=0.782]\n",
      "100%|██████████████████████████████████████████████| 50/50 [00:13<00:00,  3.68it/s, epoch=68/200, avg_epoch_loss=0.804]\n",
      "100%|██████████████████████████████████████████████| 50/50 [00:13<00:00,  3.67it/s, epoch=69/200, avg_epoch_loss=0.821]\n",
      "100%|███████████████████████████████████████████████| 50/50 [00:16<00:00,  2.95it/s, epoch=70/200, avg_epoch_loss=0.81]\n",
      "100%|██████████████████████████████████████████████| 50/50 [00:11<00:00,  4.18it/s, epoch=71/200, avg_epoch_loss=0.791]\n",
      "100%|██████████████████████████████████████████████| 50/50 [00:17<00:00,  2.79it/s, epoch=72/200, avg_epoch_loss=0.795]\n",
      "100%|██████████████████████████████████████████████| 50/50 [00:11<00:00,  4.45it/s, epoch=73/200, avg_epoch_loss=0.765]\n",
      "100%|██████████████████████████████████████████████| 50/50 [00:16<00:00,  2.99it/s, epoch=74/200, avg_epoch_loss=0.802]\n",
      "100%|██████████████████████████████████████████████| 50/50 [00:13<00:00,  3.74it/s, epoch=75/200, avg_epoch_loss=0.783]\n",
      "100%|██████████████████████████████████████████████| 50/50 [00:13<00:00,  3.66it/s, epoch=76/200, avg_epoch_loss=0.781]\n",
      "100%|██████████████████████████████████████████████| 50/50 [00:16<00:00,  3.04it/s, epoch=77/200, avg_epoch_loss=0.775]\n",
      "100%|██████████████████████████████████████████████| 50/50 [00:12<00:00,  4.01it/s, epoch=78/200, avg_epoch_loss=0.757]\n",
      "100%|██████████████████████████████████████████████| 50/50 [00:17<00:00,  2.85it/s, epoch=79/200, avg_epoch_loss=0.796]\n",
      "100%|██████████████████████████████████████████████| 50/50 [00:11<00:00,  4.42it/s, epoch=80/200, avg_epoch_loss=0.799]\n",
      "100%|██████████████████████████████████████████████| 50/50 [00:16<00:00,  2.95it/s, epoch=81/200, avg_epoch_loss=0.761]\n",
      "100%|██████████████████████████████████████████████| 50/50 [00:13<00:00,  3.67it/s, epoch=82/200, avg_epoch_loss=0.775]\n",
      "100%|██████████████████████████████████████████████| 50/50 [00:14<00:00,  3.50it/s, epoch=83/200, avg_epoch_loss=0.764]\n",
      "100%|██████████████████████████████████████████████| 50/50 [00:15<00:00,  3.16it/s, epoch=84/200, avg_epoch_loss=0.775]\n",
      "100%|██████████████████████████████████████████████| 50/50 [00:13<00:00,  3.70it/s, epoch=85/200, avg_epoch_loss=0.812]\n",
      "100%|██████████████████████████████████████████████| 50/50 [00:17<00:00,  2.90it/s, epoch=86/200, avg_epoch_loss=0.812]\n",
      "100%|██████████████████████████████████████████████| 50/50 [00:10<00:00,  4.60it/s, epoch=87/200, avg_epoch_loss=0.792]\n",
      "100%|██████████████████████████████████████████████| 50/50 [00:16<00:00,  3.00it/s, epoch=88/200, avg_epoch_loss=0.811]\n",
      "100%|██████████████████████████████████████████████| 50/50 [00:13<00:00,  3.65it/s, epoch=89/200, avg_epoch_loss=0.782]\n",
      "100%|██████████████████████████████████████████████| 50/50 [00:16<00:00,  2.99it/s, epoch=90/200, avg_epoch_loss=0.798]\n",
      "100%|██████████████████████████████████████████████| 50/50 [00:14<00:00,  3.55it/s, epoch=91/200, avg_epoch_loss=0.792]\n",
      "100%|██████████████████████████████████████████████| 50/50 [00:13<00:00,  3.69it/s, epoch=92/200, avg_epoch_loss=0.791]\n",
      "100%|██████████████████████████████████████████████| 50/50 [00:16<00:00,  3.06it/s, epoch=93/200, avg_epoch_loss=0.809]\n",
      "100%|██████████████████████████████████████████████| 50/50 [00:10<00:00,  4.64it/s, epoch=94/200, avg_epoch_loss=0.827]\n"
     ]
    },
    {
     "name": "stdout",
     "output_type": "stream",
     "text": [
      "Early stopping based on learning rate scheduler callback (min_lr was reached).\n"
     ]
    },
    {
     "name": "stderr",
     "output_type": "stream",
     "text": [
      "WARNING:root:Serializing RepresentableBlockPredictor instances does not save the prediction network structure in a backwards-compatible manner. Be careful not to use this method in production.\n"
     ]
    },
    {
     "name": "stdout",
     "output_type": "stream",
     "text": [
      "Wall time: 23min 13s\n"
     ]
    }
   ],
   "source": [
    "%%time\n",
    "\n",
    "DeepAR_predictor = DeepAR_estimator.train(training_data=train)\n",
    "\n",
    "os.makedirs(MODEL_LOCATION + MODEL_NAME, exist_ok=True)\n",
    "DeepAR_predictor.serialize(Path(MODEL_LOCATION + MODEL_NAME))"
   ]
  },
  {
   "cell_type": "code",
   "execution_count": 10,
   "id": "20bb15e8-647d-4c4c-82b0-eb9a528e8c78",
   "metadata": {},
   "outputs": [],
   "source": [
    "from gluonts.model.predictor import Predictor\n",
    "deepar_predictor = Predictor.deserialize(\n",
    "    Path(MODEL_LOCATION + MODEL_NAME))"
   ]
  },
  {
   "cell_type": "code",
   "execution_count": 11,
   "id": "10f003b7-ff56-42e9-b205-343a17bdc81c",
   "metadata": {},
   "outputs": [],
   "source": [
    "forecast_it, ts_it = make_evaluation_predictions(\n",
    "    dataset=test,  \n",
    "    predictor=deepar_predictor,  \n",
    "    num_samples=1000,  \n",
    ")"
   ]
  },
  {
   "cell_type": "code",
   "execution_count": 12,
   "id": "b5510f19-eaaf-45c6-be12-512311ed58f1",
   "metadata": {},
   "outputs": [
    {
     "name": "stderr",
     "output_type": "stream",
     "text": [
      "C:\\Users\\sebas\\AppData\\Roaming\\Python\\Python39\\site-packages\\gluonts\\transform\\feature.py:352: FutureWarning: Timestamp.freq is deprecated and will be removed in a future version\n",
      "  self._min_time_point, self._max_time_point, freq=start.freq\n"
     ]
    },
    {
     "name": "stdout",
     "output_type": "stream",
     "text": [
      "Wall time: 5min 5s\n"
     ]
    }
   ],
   "source": [
    "%%time\n",
    "\n",
    "forecasts = list(forecast_it)\n",
    "tss = list(ts_it)"
   ]
  },
  {
   "cell_type": "code",
   "execution_count": 13,
   "id": "dbdd901c-cc17-49d2-b618-eae64207bf40",
   "metadata": {},
   "outputs": [],
   "source": [
    "os.makedirs(MODEL_LOCATION + MODEL_NAME + '_predictions', exist_ok=True)\n",
    "\n",
    "with open(MODEL_LOCATION + MODEL_NAME + '_predictions/forecasts.pkl', 'wb') as f:\n",
    "    pickle.dump(forecasts, f)\n",
    "\n",
    "with open(MODEL_LOCATION + MODEL_NAME + '_predictions/tss.pkl', 'wb') as f:\n",
    "    pickle.dump(tss, f)"
   ]
  },
  {
   "cell_type": "code",
   "execution_count": null,
   "id": "ce994bbe-b71d-4d9b-b41c-c2cee5d9cf75",
   "metadata": {},
   "outputs": [],
   "source": [
    "# %%time\n",
    "# with open(MODEL_LOCATION + MODEL_NAME + '_predictions/forecasts.pkl', 'rb') as f:\n",
    "#     forecasts = pickle.load(f)\n",
    "\n",
    "# with open(MODEL_LOCATION + MODEL_NAME + '_predictions/tss.pkl', 'rb') as f:\n",
    "#     tss = pickle.load(f)"
   ]
  }
 ],
 "metadata": {
  "kernelspec": {
   "display_name": "Python 3 (ipykernel)",
   "language": "python",
   "name": "python3"
  },
  "language_info": {
   "codemirror_mode": {
    "name": "ipython",
    "version": 3
   },
   "file_extension": ".py",
   "mimetype": "text/x-python",
   "name": "python",
   "nbconvert_exporter": "python",
   "pygments_lexer": "ipython3",
   "version": "3.9.7"
  }
 },
 "nbformat": 4,
 "nbformat_minor": 5
}
